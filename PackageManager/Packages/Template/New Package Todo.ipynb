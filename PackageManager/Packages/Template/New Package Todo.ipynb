{
 "cells": [
  {
   "cell_type": "markdown",
   "source": [
    "# Database\n",
    "\n",
    "\n",
    "# Forms\n",
    "\n",
    "\n",
    "# Commands\n",
    "## Reference the proejct\n",
    "from PackageManager.Packages.ProjectList.UI.Forms.frmAMProject import AMProject as loadedForm\n",
    "\n",
    "## Name of command and name string to be the same\n",
    "class AMProject(ShelfTool):\n",
    "    def __init__(self):\n",
    "        super(AMProject, self).__init__()\n",
    "    @staticmethod\n",
    "    def name():-\n",
    "        return str(\"AMProject\")0\n",
    "        \n",
    "\n",
    "# APPMDI\n",
    "Change this self.packageName = \"Template\"\n",
    "\n",
    "# Init File\n",
    "Update this\n",
    "PACKAGE_NAME = 'Template'\n",
    "\"\"\"Base package\n",
    "\"\"\"\n",
    "Change all package references from Template to the Package Name\n"
   ],
   "metadata": {
    "collapsed": false
   },
   "id": "45934ae7521c910d"
  },
  {
   "cell_type": "markdown",
   "source": [
    "need to add package to AppMDI (Main One) to get it to show up (Currently line 119):\n",
    "self.packagelist = [\"ProgramBase\", \"ProjectList\", \"Template\", \"PyFlowPkg\", \"XFiles\", \"StockTrader\"]\n"
   ],
   "metadata": {
    "collapsed": false
   },
   "id": "db712b7ec088b3eb"
  },
  {
   "cell_type": "markdown",
   "source": [],
   "metadata": {
    "collapsed": false
   },
   "id": "bb4db3844c58b3e5"
  },
  {
   "cell_type": "markdown",
   "source": [
    "Update the orms that are used.\n",
    "from PackageManager.Packages.TaskManager.Resources import ICON_DIR\n",
    "\n",
    "\n",
    "class frmTemplate(QMdiSubWindow):\n",
    "    def __init__(self, main, parent):\n",
    "        super(frmTemplate, self).__init__()\n",
    "        self.PackageName = \"Template\"\n",
    "        self.setWindowTitle(\"Template\")"
   ],
   "metadata": {
    "collapsed": false
   },
   "id": "34bc0996f2c765e9"
  }
 ],
 "metadata": {
  "kernelspec": {
   "display_name": "Python 3",
   "language": "python",
   "name": "python3"
  },
  "language_info": {
   "codemirror_mode": {
    "name": "ipython",
    "version": 2
   },
   "file_extension": ".py",
   "mimetype": "text/x-python",
   "name": "python",
   "nbconvert_exporter": "python",
   "pygments_lexer": "ipython2",
   "version": "2.7.6"
  }
 },
 "nbformat": 4,
 "nbformat_minor": 5
}
